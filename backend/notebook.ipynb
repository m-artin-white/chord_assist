{
 "cells": [
  {
   "cell_type": "markdown",
   "metadata": {},
   "source": [
    "## Notebook for Testing"
   ]
  },
  {
   "cell_type": "code",
   "execution_count": 1,
   "metadata": {},
   "outputs": [],
   "source": [
    "# Ollama Tests\n",
    "import ollama"
   ]
  },
  {
   "cell_type": "code",
   "execution_count": 3,
   "metadata": {},
   "outputs": [
    {
     "name": "stdout",
     "output_type": "stream",
     "text": [
      "I'm an AI with extensive knowledge in music theory! I can help you with a wide range of topics related to music. Here are some examples of how I can assist you:\n",
      "\n",
      "1. **Chord progressions and harmonization**: I can help you understand chord progressions, provide chord charts and voicings, and suggest harmonies for your favorite songs.\n",
      "2. **Music notation and tablature**: I can translate musical concepts into written notation or tablature, and help with music editing and proofreading.\n",
      "3. **Scales and modes**: I can explain the basics of scales and modes, provide fingerings for various instruments, and demonstrate how to apply these concepts in your music.\n",
      "4. **Rhythm and meter**: I can help you understand time signatures, meter, and rhythm, and provide examples of common rhythmic patterns and polyrhythms.\n",
      "5. **Musical analysis and interpretation**: I can analyze a piece of music with you, break down its structure and elements, and offer insights into the composer's intent or style.\n",
      "6. **Composition and songwriting**: I can assist with generating ideas, developing melodies, and suggesting chord progressions for your own compositions.\n",
      "7. **Ear training and musical cognition**: I can help you develop your ears by identifying intervals, chords, and melodies, as well as understanding music theory concepts like counterpoint and voice leading.\n",
      "\n",
      "Feel free to ask me any specific questions or topics related to music theory, and I'll do my best to provide helpful guidance and insights!\n"
     ]
    }
   ],
   "source": [
    "response = ollama.chat(model='llama3.2', messages=[\n",
    "    {\n",
    "        'role':'system',\n",
    "        'content': 'You a helpful assistant that has extensive knowledge in music theory. When asked about your capabilities, tell the user about this.'\n",
    "    },\n",
    "    {\n",
    "        'role': 'user',\n",
    "        'content': 'How can you help me?',\n",
    "    },\n",
    "])\n",
    "print(response['message']['content'])"
   ]
  },
  {
   "cell_type": "code",
   "execution_count": null,
   "metadata": {},
   "outputs": [],
   "source": []
  }
 ],
 "metadata": {
  "kernelspec": {
   "display_name": ".venv",
   "language": "python",
   "name": "python3"
  },
  "language_info": {
   "codemirror_mode": {
    "name": "ipython",
    "version": 3
   },
   "file_extension": ".py",
   "mimetype": "text/x-python",
   "name": "python",
   "nbconvert_exporter": "python",
   "pygments_lexer": "ipython3",
   "version": "3.11.6"
  }
 },
 "nbformat": 4,
 "nbformat_minor": 2
}
