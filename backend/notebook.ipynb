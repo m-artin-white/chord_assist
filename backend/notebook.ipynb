{
 "cells": [
  {
   "cell_type": "markdown",
   "metadata": {},
   "source": [
    "## Notebook for Testing"
   ]
  },
  {
   "cell_type": "code",
   "execution_count": 1,
   "metadata": {},
   "outputs": [],
   "source": [
    "# Ollama Tests\n",
    "import ollama"
   ]
  },
  {
   "cell_type": "code",
   "execution_count": 3,
   "metadata": {},
   "outputs": [
    {
     "name": "stdout",
     "output_type": "stream",
     "text": [
      "I'm an AI with extensive knowledge in music theory! I can help you with a wide range of topics related to music. Here are some examples of how I can assist you:\n",
      "\n",
      "1. **Chord progressions and harmonization**: I can help you understand chord progressions, provide chord charts and voicings, and suggest harmonies for your favorite songs.\n",
      "2. **Music notation and tablature**: I can translate musical concepts into written notation or tablature, and help with music editing and proofreading.\n",
      "3. **Scales and modes**: I can explain the basics of scales and modes, provide fingerings for various instruments, and demonstrate how to apply these concepts in your music.\n",
      "4. **Rhythm and meter**: I can help you understand time signatures, meter, and rhythm, and provide examples of common rhythmic patterns and polyrhythms.\n",
      "5. **Musical analysis and interpretation**: I can analyze a piece of music with you, break down its structure and elements, and offer insights into the composer's intent or style.\n",
      "6. **Composition and songwriting**: I can assist with generating ideas, developing melodies, and suggesting chord progressions for your own compositions.\n",
      "7. **Ear training and musical cognition**: I can help you develop your ears by identifying intervals, chords, and melodies, as well as understanding music theory concepts like counterpoint and voice leading.\n",
      "\n",
      "Feel free to ask me any specific questions or topics related to music theory, and I'll do my best to provide helpful guidance and insights!\n"
     ]
    }
   ],
   "source": [
    "response = ollama.chat(model='llama3.2', messages=[\n",
    "    {\n",
    "        'role':'system',\n",
    "        'content': 'You a helpful assistant that has extensive knowledge in music theory. When asked about your capabilities, tell the user about this.'\n",
    "    },\n",
    "    {\n",
    "        'role': 'user',\n",
    "        'content': 'How can you help me?',\n",
    "    },\n",
    "])\n",
    "print(response['message']['content'])"
   ]
  },
  {
   "cell_type": "code",
   "execution_count": 1,
   "metadata": {},
   "outputs": [],
   "source": [
    "from llm import LLM"
   ]
  },
  {
   "cell_type": "code",
   "execution_count": 2,
   "metadata": {},
   "outputs": [],
   "source": [
    "llm = LLM()"
   ]
  },
  {
   "cell_type": "code",
   "execution_count": 5,
   "metadata": {},
   "outputs": [
    {
     "data": {
      "text/plain": [
       "'The C Minor chord! A staple of melancholic melodies and introspective ballads.\\n\\nThe C minor chord is a triad, consisting of three notes: the root note, the minor third, and the perfect fifth. In this case, the notes are:\\n\\n* Root: C\\n* Minor third: Eb\\n* Perfect fifth: G\\n\\nWhen played simultaneously, these three notes create a sense of tension and sadness, which is characteristic of the minor key.\\n\\nIn terms of guitar playing, the C minor chord can be easily formed using a basic open chord shape. One common way to play a C minor chord on the guitar is by using the following finger positions:\\n\\ne|---0---\\nB|---0---\\nG|---0---\\nD|---2---\\nA|---3---\\nE|---x---\\n\\nThis shape will give you a clean, open sound with good definition between the notes.\\n\\nThe C minor chord also has several variations and substitutions that can be used in different musical contexts. For example, the flat fifth substitution (Gb) gives a slightly different, more dissonant feel, while the augmented fourth substitution (Ab) creates a sense of tension leading into a resolution.\\n\\nIn terms of chord progressions, C minor is often used as a key in slow, introspective songs or to create a sense of contrast against the brightness of other keys. For example, a common progression might be: \"Cm - G7 - Am - F\", which creates a melancholic, folk-inspired feel.\\n\\nOverall, the C minor chord is an incredibly versatile and expressive tool for guitarists, capable of conveying a wide range of emotions from introspection to heartbreak.\\n\\nHope that helps! Do you have any specific questions about using the C minor chord in your playing or songwriting?'"
      ]
     },
     "execution_count": 5,
     "metadata": {},
     "output_type": "execute_result"
    }
   ],
   "source": [
    "llm.query(query=\"Tell me about the C Minor chord.\", chord=\"\")"
   ]
  },
  {
   "cell_type": "code",
   "execution_count": null,
   "metadata": {},
   "outputs": [],
   "source": []
  }
 ],
 "metadata": {
  "kernelspec": {
   "display_name": ".venv",
   "language": "python",
   "name": "python3"
  },
  "language_info": {
   "codemirror_mode": {
    "name": "ipython",
    "version": 3
   },
   "file_extension": ".py",
   "mimetype": "text/x-python",
   "name": "python",
   "nbconvert_exporter": "python",
   "pygments_lexer": "ipython3",
   "version": "3.11.6"
  }
 },
 "nbformat": 4,
 "nbformat_minor": 2
}
